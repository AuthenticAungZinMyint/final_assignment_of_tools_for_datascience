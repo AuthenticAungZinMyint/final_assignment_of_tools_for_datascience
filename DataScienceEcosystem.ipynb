{
 "cells": [
  {
   "cell_type": "markdown",
   "id": "b701f083-09c0-49d0-861d-6bb49d3ebfc1",
   "metadata": {},
   "source": [
    "<h1>Data Science Tools and Ecosystem</h1>"
   ]
  },
  {
   "cell_type": "markdown",
   "id": "a628b5e4-1c19-48d7-b7dc-afb5136d1976",
   "metadata": {},
   "source": [
    "In this notebook, Data Science Tools and Ecosystem are summarized."
   ]
  },
  {
   "cell_type": "markdown",
   "id": "6574ff2b-e958-47e4-87cd-ca607f0dbfc2",
   "metadata": {},
   "source": [
    "<b>Objectives:</b>\n",
    "<ul>\n",
    "    <li>List popular languages for Data Science</li>\n",
    "    <li>Popular libraries of Data Science</li>\n",
    "    <li>List of Open Source Data Science Tool</li>\n",
    "    <li>Simple Arithemtic Opertaion</li>\n",
    "</ul>"
   ]
  },
  {
   "cell_type": "markdown",
   "id": "16ab79c0-2bc8-4aa8-a289-628939416cab",
   "metadata": {},
   "source": [
    "Some of the popular languages that Data Scientists use are:\n",
    "<ol>\n",
    "    <li>Python</li>\n",
    "    <li>Scala</li>\n",
    "    <li>R</li>\n",
    "    <li>Java</li>\n",
    "</ol>"
   ]
  },
  {
   "cell_type": "markdown",
   "id": "4a082a7a-193e-4c1b-99e0-6f75c2e103ef",
   "metadata": {},
   "source": [
    "Some of the commonly used libraries used by Data Scientists include:\n",
    "<ol>\n",
    "    <li>Pandas</li>\n",
    "    <li>Scikit Learn</li>\n",
    "    <li>Matplotlib</li>\n",
    "    <li>Numpy</li>\n",
    "</ol>"
   ]
  },
  {
   "cell_type": "markdown",
   "id": "6df2beb8-5813-4bba-a9f2-f588654bb513",
   "metadata": {},
   "source": [
    "| Data Science Tools |\n",
    "|--- |\n",
    "| Hadoop |\n",
    "| Apache Spark |\n",
    "| Tensorflow |\n"
   ]
  },
  {
   "cell_type": "markdown",
   "id": "3c18f925-6cb1-4ae0-bcd5-95eb70fb775b",
   "metadata": {},
   "source": [
    "<h3>Below are a few examples of evaluating arithmetic expressions in Python</h3>"
   ]
  },
  {
   "cell_type": "code",
   "execution_count": 2,
   "id": "607e92cb-febd-481b-aad1-c20dca0232c9",
   "metadata": {},
   "outputs": [
    {
     "data": {
      "text/plain": [
       "17"
      ]
     },
     "execution_count": 2,
     "metadata": {},
     "output_type": "execute_result"
    }
   ],
   "source": [
    "#This a simple arithmetic expression to mutiply then add integers\n",
    "(3*4)+5"
   ]
  },
  {
   "cell_type": "code",
   "execution_count": 3,
   "id": "dd546bd3-37f7-4ed3-b699-7ae1b2bcc573",
   "metadata": {},
   "outputs": [
    {
     "data": {
      "text/plain": [
       "3.3333333333333335"
      ]
     },
     "execution_count": 3,
     "metadata": {},
     "output_type": "execute_result"
    }
   ],
   "source": [
    "#This will convert 200 minutes to hours by diving by 60\n",
    "200 / 60"
   ]
  },
  {
   "cell_type": "markdown",
   "id": "2a6554ad-7404-419b-86ef-68619a278c63",
   "metadata": {},
   "source": [
    "<h2>Author</h2> Aung Zin Myint\n"
   ]
  },
  {
   "cell_type": "code",
   "execution_count": null,
   "id": "d307a1d6-3f6b-4aac-bdd7-217053d12dfd",
   "metadata": {},
   "outputs": [],
   "source": []
  }
 ],
 "metadata": {
  "kernelspec": {
   "display_name": "Python 3 (ipykernel)",
   "language": "python",
   "name": "python3"
  },
  "language_info": {
   "codemirror_mode": {
    "name": "ipython",
    "version": 3
   },
   "file_extension": ".py",
   "mimetype": "text/x-python",
   "name": "python",
   "nbconvert_exporter": "python",
   "pygments_lexer": "ipython3",
   "version": "3.12.3"
  }
 },
 "nbformat": 4,
 "nbformat_minor": 5
}
